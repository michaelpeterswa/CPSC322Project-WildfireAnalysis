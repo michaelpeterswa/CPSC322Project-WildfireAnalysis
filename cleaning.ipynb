{
 "metadata": {
  "language_info": {
   "codemirror_mode": {
    "name": "ipython",
    "version": 3
   },
   "file_extension": ".py",
   "mimetype": "text/x-python",
   "name": "python",
   "nbconvert_exporter": "python",
   "pygments_lexer": "ipython3",
   "version": "3.8.5"
  },
  "orig_nbformat": 2,
  "kernelspec": {
   "name": "python385jvsc74a57bd098b0a9b7b4eaaa670588a142fd0a9b87eaafe866f1db4228be72b4211d12040f",
   "display_name": "Python 3.8.5 64-bit ('base': conda)"
  }
 },
 "nbformat": 4,
 "nbformat_minor": 2,
 "cells": [
  {
   "source": [
    "# Wildfire Analysis\n",
    "## Michael Peters and Nick Latham\n",
    "CPSC322\n",
    "04.06.21"
   ],
   "cell_type": "markdown",
   "metadata": {}
  },
  {
   "cell_type": "code",
   "execution_count": 1,
   "metadata": {},
   "outputs": [],
   "source": [
    "import geojson\n",
    "import datetime"
   ]
  },
  {
   "cell_type": "code",
   "execution_count": 2,
   "metadata": {},
   "outputs": [],
   "source": [
    "def load_data(filename):\n",
    "    \"\"\"\n",
    "    Loads GeoJson Data from \"filename\"\n",
    "    \"\"\"\n",
    "    with open(filename) as f:\n",
    "        data = geojson.load(f)\n",
    "    return data"
   ]
  },
  {
   "cell_type": "code",
   "execution_count": 3,
   "metadata": {},
   "outputs": [],
   "source": [
    "older_fire_data = load_data(\"data/DNR_Fire_Statistics_1970-2007.geojson\")\n",
    "newer_fire_data = load_data(\"data/DNR_Fire_Statistics_2008_-_Present.geojson\")"
   ]
  },
  {
   "cell_type": "code",
   "execution_count": 4,
   "metadata": {},
   "outputs": [],
   "source": [
    "old_fire_data = older_fire_data[\"features\"]\n",
    "new_fire_data = newer_fire_data[\"features\"]"
   ]
  },
  {
   "cell_type": "code",
   "execution_count": 5,
   "metadata": {},
   "outputs": [
    {
     "output_type": "stream",
     "name": "stdout",
     "text": [
      "{\"geometry\": {\"coordinates\": [-117.078338, 47.837034], \"type\": \"Point\"}, \"properties\": {\"ACRES_BURNED\": 0.1, \"COUNTY_LABEL_NM\": \"SPOKANE\", \"FIREEVNT_CLASS_LABEL_NM\": \"Classified\", \"FIREEVNT_NM\": null, \"FIREGCAUSE_LABEL_NM\": \"Recreation\", \"OBJECTID\": 2, \"START_DT\": \"1974-10-12T08:00:00Z\"}, \"type\": \"Feature\"}\n"
     ]
    }
   ],
   "source": [
    "print(old_fire_data[1])"
   ]
  },
  {
   "cell_type": "code",
   "execution_count": 6,
   "metadata": {},
   "outputs": [
    {
     "output_type": "stream",
     "name": "stdout",
     "text": [
      "{\"geometry\": {\"coordinates\": [-120.916389, 45.904957], \"type\": \"Point\"}, \"properties\": {\"ACRES_BURNED\": 0.25, \"BURNESCAPE_RSN_LABEL_NM\": \"Extinguish\", \"BURN_MERCH_AREA\": null, \"BURN_NONSTOCK_AREA\": 0.25, \"BURN_REPROD_AREA\": null, \"CONTROL_DT\": \"2017-05-23T07:00:00Z\", \"CONTROL_TM\": \"1935\", \"COUNTY_LABEL_NM\": \"KLICKITAT\", \"DSCVR_DT\": \"2017-05-23T07:00:00Z\", \"DSCVR_TM\": \"1650\", \"FIREEVENT_ID\": 50035, \"FIREEVNT_CLASS_CD\": 1, \"FIREEVNT_CLASS_LABEL_NM\": \"Classified\", \"FIREGCAUSE_LABEL_NM\": \"Debris Burn\", \"FIRESCAUSE_LABEL_NM\": \"None\", \"FIRE_OUT_DT\": \"2017-05-25T07:00:00Z\", \"FIRE_OUT_TM\": \"1300\", \"FIRE_RGE_DIR_FLG\": \"E\", \"FIRE_RGE_FRACT_NO\": 0, \"FIRE_RGE_WHOLE_NO\": 15, \"FIRE_SECT_NO\": 22, \"FIRE_TWP_FRACT_NO\": 0, \"FIRE_TWP_WHOLE_NO\": 5, \"INCIDENT_ID\": 49868, \"INCIDENT_NM\": \"Turkey Ranch\", \"INCIDENT_NO\": 7, \"LAT_COORD\": 45.904947, \"LON_COORD\": -120.916377, \"NON_DNR_RES_ORDER_NO\": null, \"OBJECTID\": 2, \"PROTECTION_TYPE\": \"DNR Protection FFPA\", \"REGION_NAME\": \"SOUTHEAST\", \"RES_ORDER_NO\": \"WA-SES-050\", \"SECTION_SUBDIV_PTS_ID\": 372894, \"SITE_ELEV\": 2000, \"START_DT\": \"2017-05-23T08:00:00Z\", \"START_JURISDICTION_AGENCY_NM\": \"DNR\", \"START_OWNER_AGENCY_NM\": \"Private\", \"START_TM\": \"1715\"}, \"type\": \"Feature\"}\n"
     ]
    }
   ],
   "source": [
    "print(new_fire_data[1])"
   ]
  },
  {
   "cell_type": "code",
   "execution_count": 7,
   "metadata": {},
   "outputs": [
    {
     "output_type": "stream",
     "name": "stdout",
     "text": [
      "38116 20829 58945\n"
     ]
    }
   ],
   "source": [
    "\n",
    "# get total number of fires\n",
    "old_total = len(old_fire_data)\n",
    "new_total = len(new_fire_data)\n",
    "print(old_total, new_total, old_total + new_total)"
   ]
  },
  {
   "cell_type": "code",
   "execution_count": 8,
   "metadata": {},
   "outputs": [],
   "source": [
    "def parse_ISO8601(date):\n",
    "    \n",
    "    return date"
   ]
  },
  {
   "cell_type": "code",
   "execution_count": 9,
   "metadata": {},
   "outputs": [],
   "source": [
    "cleaned_fire_data = []\n",
    "counties = []\n",
    "causes = []\n",
    "for fire in old_fire_data:\n",
    "    date = fire[\"properties\"][\"START_DT\"]\n",
    "    acres = fire[\"properties\"][\"ACRES_BURNED\"]\n",
    "    county = fire[\"properties\"][\"COUNTY_LABEL_NM\"]\n",
    "    cause = fire[\"properties\"][\"FIREGCAUSE_LABEL_NM\"]\n",
    "    lon = fire[\"geometry\"][\"coordinates\"][0]\n",
    "    lat = fire[\"geometry\"][\"coordinates\"][1]\n",
    "    date = datetime.datetime.strptime(date.split(\"-\")[1], \"%m\").strftime(\"%b\")\n",
    "    cleaned_fire_data.append((date, acres, county, cause, lat, lon))\n",
    "    counties.append(county)\n",
    "    causes.append(cause)\n",
    "\n",
    "for fire in new_fire_data: \n",
    "    date = fire[\"properties\"][\"START_DT\"]\n",
    "    acres = fire[\"properties\"][\"ACRES_BURNED\"]\n",
    "    county = fire[\"properties\"][\"COUNTY_LABEL_NM\"]\n",
    "    cause = fire[\"properties\"][\"FIREGCAUSE_LABEL_NM\"]\n",
    "    lon = fire[\"geometry\"][\"coordinates\"][0]\n",
    "    lat = fire[\"geometry\"][\"coordinates\"][1]\n",
    "    date = datetime.datetime.strptime(date.split(\"-\")[1], \"%m\").strftime(\"%b\")\n",
    "    cleaned_fire_data.append((date, acres, county, cause, lat, lon))\n",
    "    counties.append(county)\n",
    "    causes.append(cause)"
   ]
  },
  {
   "cell_type": "code",
   "execution_count": 10,
   "metadata": {},
   "outputs": [],
   "source": [
    "import csv"
   ]
  },
  {
   "cell_type": "code",
   "execution_count": 11,
   "metadata": {},
   "outputs": [],
   "source": [
    "with open('data/clean_fire_data.csv', 'w', newline='') as csvfile:\n",
    "    writer = csv.writer(csvfile,)\n",
    "    writer.writerow((\"date\", \"acres\", \"county\" , \"cause\", \"lat\", \"lon\"))\n",
    "    for fire in cleaned_fire_data:\n",
    "        writer.writerow(fire)"
   ]
  },
  {
   "cell_type": "code",
   "execution_count": 12,
   "metadata": {
    "tags": []
   },
   "outputs": [
    {
     "output_type": "stream",
     "name": "stdout",
     "text": [
      "{'MASON', 'PACIFIC', 'YAKIMA', 'GRAYS HARBOR', 'KLICKITAT', 'CHELAN', 'THURSTON', 'FRANKLIN', 'WAHKIAKUM', 'STEVENS', 'BENTON', 'KING', 'NO DATA', 'OKANOGAN', 'CLALLAM', 'WHITMAN', None, 'SPOKANE', 'PEND OREILLE', 'ASOTIN', 'WALLA WALLA', 'LEWIS', 'CLARK', 'KITTITAS', 'KITSAP', 'ISLAND', 'COWLITZ', 'SNOHOMISH', 'GARFIELD', 'SKAGIT', 'SKAMANIA', 'PIERCE', 'ADAMS', 'WHATCOM', 'DOUGLAS', 'FERRY', 'COLUMBIA', 'JEFFERSON', 'GRANT', 'LINCOLN', 'SAN JUAN'}\n{'Children', 'Recreation', 'Miscellaneou', 'Logging', 'Debris Burn', 'Lightning', 'Railroad', 'Arson', 'Undetermined', 'Smoker', 'Under Invest', 'None'}\n"
     ]
    }
   ],
   "source": [
    "uniq_county = set(counties)\n",
    "uniq_cause = set(causes)\n",
    "\n",
    "print(uniq_county)\n",
    "print(uniq_cause)"
   ]
  },
  {
   "cell_type": "code",
   "execution_count": null,
   "metadata": {},
   "outputs": [],
   "source": []
  }
 ]
}