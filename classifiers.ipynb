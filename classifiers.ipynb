{
 "metadata": {
  "language_info": {
   "codemirror_mode": {
    "name": "ipython",
    "version": 3
   },
   "file_extension": ".py",
   "mimetype": "text/x-python",
   "name": "python",
   "nbconvert_exporter": "python",
   "pygments_lexer": "ipython3",
   "version": "3.8.5"
  },
  "orig_nbformat": 2,
  "kernelspec": {
   "name": "python385jvsc74a57bd098b0a9b7b4eaaa670588a142fd0a9b87eaafe866f1db4228be72b4211d12040f",
   "display_name": "Python 3.8.5 64-bit ('base': conda)",
   "language": "python"
  }
 },
 "nbformat": 4,
 "nbformat_minor": 2,
 "cells": [
  {
   "cell_type": "code",
   "execution_count": 17,
   "metadata": {},
   "outputs": [],
   "source": [
    "import importlib\n",
    "\n",
    "import copy\n",
    "from tabulate import tabulate\n",
    "\n",
    "import mysklearn.myutils\n",
    "importlib.reload(mysklearn.myutils)\n",
    "import mysklearn.myutils as myutils\n",
    "\n",
    "import mysklearn.mypytable\n",
    "importlib.reload(mysklearn.mypytable)\n",
    "from mysklearn.mypytable import MyPyTable \n",
    "\n",
    "import mysklearn.myclassifiers\n",
    "importlib.reload(mysklearn.myclassifiers)\n",
    "from mysklearn.myclassifiers import MyKNeighborsClassifier, MySimpleLinearRegressor, MyNaiveBayesClassifier, MyDecisionTreeClassifier, MyRandomForestClassifier\n",
    "\n",
    "import mysklearn.myevaluation\n",
    "importlib.reload(mysklearn.myevaluation)\n",
    "import mysklearn.myevaluation as myevaluation"
   ]
  },
  {
   "cell_type": "code",
   "execution_count": 18,
   "metadata": {},
   "outputs": [],
   "source": [
    "wildfire_fname = os.path.join(\"data\",\"clean_fire_data.csv\")\n",
    "wildfire_table = MyPyTable()\n",
    "wildfire_table.load_from_file(wildfire_fname)\n",
    "\n",
    "fire_date = wildfire_table.get_column(\"date\")\n",
    "county = wildfire_table.get_column(\"county\")\n",
    "acres = wildfire_table.get_column(\"acres\")\n",
    "cause = wildfire_table.get_column(\"cause\")\n",
    "lat = wildfire_table.get_column(\"lat\")\n",
    "lng = wildfire_table.get_column(\"lon\")\n",
    "binlat = wildfire_table.get_column(\"binlat\")\n",
    "binlon = wildfire_table.get_column(\"binlon\")\n",
    "binacres = wildfire_table.get_column(\"binacres\")\n",
    "\n",
    "wildfire_X = [[fire_date[i], county[i], cause[i], binlat[i], binlon[i]] for i in range(len(fire_date))]\n",
    "wildfire_y = [x for x in binacres]\n",
    "\n",
    "\n",
    "\n"
   ]
  },
  {
   "cell_type": "code",
   "execution_count": 25,
   "metadata": {},
   "outputs": [
    {
     "output_type": "stream",
     "name": "stdout",
     "text": [
      "3737\n{'Oct', 'Mar', 'Feb', 'May', 'Nov', 'Dec', 'Apr', 'Aug', 'Jan', 'Sep', 'Jul', 'Jun'}\n{'GARFIELD', 'WALLA WALLA', 'GRAYS HARBOR', 'FERRY', 'OKANOGAN', 'LINCOLN', 'STEVENS', 'PIERCE', 'COWLITZ', 'YAKIMA', 'PACIFIC', 'ASOTIN', 'CHELAN', 'DOUGLAS', 'WHITMAN', 'SKAMANIA', 'GRANT', 'KLICKITAT', 'KING', 'MASON', 'FRANKLIN', 'JEFFERSON', 'KITTITAS', 'ADAMS', 'SAN JUAN', 'SPOKANE', 'BENTON', 'ISLAND', 'KITSAP', 'NO DATA', 'WHATCOM', 'THURSTON', 'CLALLAM', 'SKAGIT', 'LEWIS', 'WAHKIAKUM', 'SNOHOMISH', 'COLUMBIA', 'CLARK', 'PEND OREILLE'}\n{'Railroad', 'Arson', 'Recreation', 'Under Invest', 'Logging', 'Children', 'Lightning', 'Debris Burn', 'Miscellaneou', 'None', 'Undetermined', 'Smoker'}\n{1.0, 2.0, 3.0, 4.0}\n{1.0, 2.0, 3.0, 4.0, 5.0, 6.0, 7.0, 8.0}\n{2.0, 3.0, 4.0, 5.0, 6.0, 7.0, 8.0, 9.0}\n"
     ]
    }
   ],
   "source": [
    "print(len(wildfire_X))\n",
    "print(set(fire_date))\n",
    "print(set(county))\n",
    "print(set(cause))\n",
    "print(set(binlat))\n",
    "print(set(binlon))\n",
    "print(set(binacres))"
   ]
  },
  {
   "cell_type": "code",
   "execution_count": 20,
   "metadata": {},
   "outputs": [
    {
     "output_type": "stream",
     "name": "stdout",
     "text": [
      "0\n",
      "getting sample and validation sets...\n",
      "length of sample and validation sets: 2503 551\n",
      "getting the tree...\n",
      "testing the tree\n",
      "accuracy: 0.3339382940108893\n",
      "1\n",
      "getting sample and validation sets...\n",
      "length of sample and validation sets: 2503 534\n",
      "getting the tree...\n",
      "testing the tree\n",
      "accuracy: 0.3408239700374532\n",
      "2\n",
      "getting sample and validation sets...\n",
      "length of sample and validation sets: 2503 519\n",
      "getting the tree...\n",
      "testing the tree\n",
      "accuracy: 0.34104046242774566\n",
      "3\n",
      "getting sample and validation sets...\n",
      "length of sample and validation sets: 2503 537\n",
      "getting the tree...\n",
      "testing the tree\n",
      "accuracy: 0.30353817504655495\n",
      "4\n",
      "getting sample and validation sets...\n",
      "length of sample and validation sets: 2503 542\n",
      "getting the tree...\n",
      "testing the tree\n",
      "accuracy: 0.32656826568265684\n",
      "5\n",
      "getting sample and validation sets...\n",
      "length of sample and validation sets: 2503 533\n",
      "getting the tree...\n",
      "testing the tree\n",
      "accuracy: 0.3320825515947467\n",
      "6\n",
      "getting sample and validation sets...\n",
      "length of sample and validation sets: 2503 558\n",
      "getting the tree...\n",
      "testing the tree\n",
      "accuracy: 0.3225806451612903\n",
      "7\n",
      "getting sample and validation sets...\n",
      "length of sample and validation sets: 2503 560\n",
      "getting the tree...\n",
      "testing the tree\n",
      "accuracy: 0.3125\n",
      "8\n",
      "getting sample and validation sets...\n",
      "length of sample and validation sets: 2503 538\n",
      "getting the tree...\n",
      "testing the tree\n",
      "accuracy: 0.3680297397769517\n",
      "9\n",
      "getting sample and validation sets...\n",
      "length of sample and validation sets: 2503 547\n",
      "getting the tree...\n",
      "testing the tree\n",
      "accuracy: 0.3820840950639854\n",
      "10\n",
      "getting sample and validation sets...\n",
      "length of sample and validation sets: 2503 553\n",
      "getting the tree...\n",
      "testing the tree\n",
      "accuracy: 0.32730560578661844\n",
      "11\n",
      "getting sample and validation sets...\n",
      "length of sample and validation sets: 2503 539\n",
      "getting the tree...\n",
      "testing the tree\n",
      "accuracy: 0.3209647495361781\n",
      "12\n",
      "getting sample and validation sets...\n",
      "length of sample and validation sets: 2503 535\n",
      "getting the tree...\n",
      "testing the tree\n",
      "accuracy: 0.32710280373831774\n",
      "13\n",
      "getting sample and validation sets...\n",
      "length of sample and validation sets: 2503 550\n",
      "getting the tree...\n",
      "testing the tree\n",
      "accuracy: 0.3472727272727273\n",
      "14\n",
      "getting sample and validation sets...\n",
      "length of sample and validation sets: 2503 561\n",
      "getting the tree...\n",
      "testing the tree\n",
      "accuracy: 0.3404634581105169\n",
      "15\n",
      "getting sample and validation sets...\n",
      "length of sample and validation sets: 2503 537\n",
      "getting the tree...\n",
      "testing the tree\n",
      "accuracy: 0.33891992551210426\n",
      "16\n",
      "getting sample and validation sets...\n",
      "length of sample and validation sets: 2503 545\n",
      "getting the tree...\n",
      "testing the tree\n",
      "accuracy: 0.3412844036697248\n",
      "17\n",
      "getting sample and validation sets...\n",
      "length of sample and validation sets: 2503 551\n",
      "getting the tree...\n",
      "testing the tree\n",
      "accuracy: 0.30671506352087113\n",
      "18\n",
      "getting sample and validation sets...\n",
      "length of sample and validation sets: 2503 593\n",
      "getting the tree...\n",
      "testing the tree\n",
      "accuracy: 0.32377740303541314\n",
      "19\n",
      "getting sample and validation sets...\n",
      "length of sample and validation sets: 2503 547\n",
      "getting the tree...\n",
      "testing the tree\n",
      "accuracy: 0.32541133455210236\n",
      "getting the best M trees\n"
     ]
    }
   ],
   "source": [
    "\n",
    "max_accuracy = 0\n",
    "for F in range(1, 6):\n",
    "    for N in range(1, 30):\n",
    "        for M in range(1, N+1):\n",
    "            rf = MyRandomForestClassifier()\n",
    "            rf.fit(wildfire_X, wildfire_y, F=F, N=N, M=M)\n",
    "\n",
    "            predictions = []\n",
    "            for i, x in enumerate(X_test):\n",
    "                prediction = rf.predict([x])\n",
    "                # print(prediction, y_test[i])\n",
    "                # print(prediction)\n",
    "                predictions.append(int(prediction[0] == y_test[i]))\n",
    "                if sum(predictions)/len(predictions) > max_accuracy:\n",
    "                    print(\"F:\", F, \"N:\", N, \"M:\", M, \"Accuracy:\", sum(predictions)/len(predictions))\n",
    "                    max_accuracy = sum(predictions)/len(predictions)\n",
    "    print(\"done\")"
   ]
  },
  {
   "cell_type": "code",
   "execution_count": 21,
   "metadata": {},
   "outputs": [
    {
     "output_type": "stream",
     "name": "stdout",
     "text": [
      "9/9    \n",
      "KNN: accuracy = 0.4 error rate = 0.6\n"
     ]
    }
   ],
   "source": [
    "test_size = 10\n",
    "\n",
    "X_train, X_test, y_train, y_test = myevaluation.train_test_split(copy.deepcopy(wildfire_X), copy.deepcopy(wildfire_y), test_size=test_size, shuffle=True)\n",
    "\n",
    "nb = MyKNeighborsClassifier()\n",
    "nb.fit(X_train, y_train)\n",
    "predictions = []\n",
    "for i, x in enumerate(X_test):\n",
    "    sys.stdout.write(\"\\r\" + str(i) + \"/\" + str(len(X_test) -1) + \"    \")\n",
    "    sys.stdout.flush()\n",
    "    prediction = nb.predict([x])\n",
    "    predictions.append(prediction[0])\n",
    "\n",
    "print()\n",
    "acc = round(sum([int(x==y) for x,y in zip(predictions, y_test)])/len(predictions), 2)\n",
    "print(\"KNN: accuracy = \" + str(acc) + \" error rate = \" + str(1-acc))"
   ]
  },
  {
   "cell_type": "code",
   "execution_count": 22,
   "metadata": {},
   "outputs": [
    {
     "output_type": "stream",
     "name": "stdout",
     "text": [
      "getting training folds...\n"
     ]
    }
   ],
   "source": [
    "print(\"getting training folds...\")\n",
    "X_train_folds, X_test_folds = myevaluation.stratified_kfold_cross_validation(wildfire_X, wildfire_y, n_splits=10)"
   ]
  },
  {
   "cell_type": "code",
   "execution_count": 23,
   "metadata": {},
   "outputs": [
    {
     "output_type": "stream",
     "name": "stdout",
     "text": [
      "\n",
      "Stratified 10-Fold Cross Validation\n",
      "373/373    \n",
      "Naive Bayes: accuracy = 0.29 error rate = 0.71\n"
     ]
    }
   ],
   "source": [
    "# k-fold stratified cross validation\n",
    "\n",
    "\n",
    "print()\n",
    "print(\"Stratified 10-Fold Cross Validation\")\n",
    "\n",
    "# decision trees for stratified k-fold\n",
    "nb_predicted = []\n",
    "nb_actual = []\n",
    "# only does the first for now since it takes so long\n",
    "for i in range(0, 1):\n",
    "    X_train, X_test, y_train, y_test = myutils.get_trains_and_tests(wildfire_X, wildfire_y, X_train_folds[i], X_test_folds[i])\n",
    "    nb = MyKNeighborsClassifier()\n",
    "    nb.fit(X_train, y_train)\n",
    "    predictions = []\n",
    "    for i, x in enumerate(X_test):\n",
    "        sys.stdout.write(\"\\r\" + str(i) + \"/\" + str(len(X_test) -1) + \"    \")\n",
    "        sys.stdout.flush()\n",
    "        prediction = nb.predict([x])\n",
    "        predictions.append(prediction[0])\n",
    "\n",
    "    print()\n",
    "    predicted = [ x for x in predictions]\n",
    "    actual = [x for x in y_test]\n",
    "    \n",
    "    nb_predicted +=  predicted\n",
    "    nb_actual += actual\n",
    "\n",
    "acc = round(sum([int(x==y) for x,y in zip(predicted, actual)])/len(predicted), 2)\n",
    "print(\"Naive Bayes: accuracy = \" + str(acc) + \" error rate = \" + str(1-acc))"
   ]
  }
 ]
}