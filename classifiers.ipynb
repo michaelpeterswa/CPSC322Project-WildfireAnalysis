{
 "metadata": {
  "language_info": {
   "codemirror_mode": {
    "name": "ipython",
    "version": 3
   },
   "file_extension": ".py",
   "mimetype": "text/x-python",
   "name": "python",
   "nbconvert_exporter": "python",
   "pygments_lexer": "ipython3",
   "version": "3.8.5"
  },
  "orig_nbformat": 2,
  "kernelspec": {
   "name": "python385jvsc74a57bd098b0a9b7b4eaaa670588a142fd0a9b87eaafe866f1db4228be72b4211d12040f",
   "display_name": "Python 3.8.5 64-bit ('base': conda)"
  }
 },
 "nbformat": 4,
 "nbformat_minor": 2,
 "cells": [
  {
   "cell_type": "code",
   "execution_count": 1,
   "metadata": {},
   "outputs": [],
   "source": [
    "import importlib\n",
    "\n",
    "import copy\n",
    "from tabulate import tabulate\n",
    "\n",
    "import mysklearn.myutils\n",
    "importlib.reload(mysklearn.myutils)\n",
    "import mysklearn.myutils as myutils\n",
    "\n",
    "import mysklearn.mypytable\n",
    "importlib.reload(mysklearn.mypytable)\n",
    "from mysklearn.mypytable import MyPyTable \n",
    "\n",
    "import mysklearn.myclassifiers\n",
    "importlib.reload(mysklearn.myclassifiers)\n",
    "from mysklearn.myclassifiers import MyKNeighborsClassifier, MySimpleLinearRegressor, MyNaiveBayesClassifier, MyDecisionTreeClassifier, MyRandomForestClassifier\n",
    "\n",
    "import mysklearn.myevaluation\n",
    "importlib.reload(mysklearn.myevaluation)\n",
    "import mysklearn.myevaluation as myevaluation"
   ]
  },
  {
   "cell_type": "code",
   "execution_count": 2,
   "metadata": {},
   "outputs": [],
   "source": [
    "wildfire_fname = os.path.join(\"data\",\"clean_fire_data.csv\")\n",
    "wildfire_table = MyPyTable()\n",
    "wildfire_table.load_from_file(wildfire_fname)\n",
    "\n",
    "fire_date = wildfire_table.get_column(\"date\")\n",
    "county = wildfire_table.get_column(\"county\")\n",
    "acres = wildfire_table.get_column(\"acres\")\n",
    "cause = wildfire_table.get_column(\"cause\")\n",
    "lat = wildfire_table.get_column(\"lat\")\n",
    "lng = wildfire_table.get_column(\"lon\")\n",
    "\n",
    "wildfire_X = [[fire_date[i], county[i], cause[i], lat[i], lng[i]] for i in range(len(fire_date))]\n",
    "wildfire_y = [x for x in acres]\n",
    "\n",
    "\n",
    "\n"
   ]
  },
  {
   "cell_type": "code",
   "execution_count": 3,
   "metadata": {},
   "outputs": [
    {
     "output_type": "stream",
     "name": "stdout",
     "text": [
      "58945\n",
      "42206\n"
     ]
    }
   ],
   "source": [
    "print(len(wildfire_X))\n",
    "for i, x in enumerate(wildfire_X):\n",
    "    if x[1] == \"None\" or x[1] == \"NO DATA\":\n",
    "        del wildfire_X[i]\n",
    "        del wildfire_y[i]\n",
    "    elif x[2] == \"None\" or x[2] == \"Logging\" or x[2] == \"Miscellaneou\" or x[2] == \"Under Invest\" or x[2] == \"Undetermined\" or x[2] == \"Railroad\" or x[2] == \"Arson\":\n",
    "        del wildfire_X[i]\n",
    "        del wildfire_y[i]\n",
    "print(len(wildfire_X))"
   ]
  },
  {
   "cell_type": "code",
   "execution_count": 4,
   "metadata": {},
   "outputs": [
    {
     "output_type": "stream",
     "name": "stdout",
     "text": [
      "got sample\n",
      "got validation set\n",
      "28278 10263 73.37121506966606 26.62878493033393\n",
      "got sample\n",
      "got validation set\n",
      "28278 10266 73.36550435865504 26.634495641344955\n",
      "got sample\n",
      "got validation set\n",
      "28278 10200 73.49134570403866 26.50865429596133\n",
      "got sample\n"
     ]
    },
    {
     "output_type": "error",
     "ename": "KeyboardInterrupt",
     "evalue": "",
     "traceback": [
      "\u001b[0;31m---------------------------------------------------------------------------\u001b[0m",
      "\u001b[0;31mKeyboardInterrupt\u001b[0m                         Traceback (most recent call last)",
      "\u001b[0;32m<ipython-input-4-9b7d50f3be2b>\u001b[0m in \u001b[0;36m<module>\u001b[0;34m\u001b[0m\n\u001b[1;32m      1\u001b[0m \u001b[0mrf\u001b[0m \u001b[0;34m=\u001b[0m \u001b[0mMyRandomForestClassifier\u001b[0m\u001b[0;34m(\u001b[0m\u001b[0;34m)\u001b[0m\u001b[0;34m\u001b[0m\u001b[0;34m\u001b[0m\u001b[0m\n\u001b[0;32m----> 2\u001b[0;31m \u001b[0mrf\u001b[0m\u001b[0;34m.\u001b[0m\u001b[0mfit\u001b[0m\u001b[0;34m(\u001b[0m\u001b[0mwildfire_X\u001b[0m\u001b[0;34m,\u001b[0m \u001b[0mwildfire_y\u001b[0m\u001b[0;34m)\u001b[0m\u001b[0;34m\u001b[0m\u001b[0;34m\u001b[0m\u001b[0m\n\u001b[0m",
      "\u001b[0;32m/home/CPSC322Project-WildfireAnalysis/mysklearn/myclassifiers.py\u001b[0m in \u001b[0;36mfit\u001b[0;34m(self, X_train, y_train)\u001b[0m\n\u001b[1;32m    409\u001b[0m             \u001b[0mvalidation_set\u001b[0m \u001b[0;34m=\u001b[0m \u001b[0;34m[\u001b[0m\u001b[0;34m]\u001b[0m\u001b[0;34m\u001b[0m\u001b[0;34m\u001b[0m\u001b[0m\n\u001b[1;32m    410\u001b[0m             \u001b[0;32mfor\u001b[0m \u001b[0mx\u001b[0m \u001b[0;32min\u001b[0m \u001b[0mX_remainder\u001b[0m\u001b[0;34m:\u001b[0m\u001b[0;34m\u001b[0m\u001b[0;34m\u001b[0m\u001b[0m\n\u001b[0;32m--> 411\u001b[0;31m                 \u001b[0;32mif\u001b[0m \u001b[0mx\u001b[0m \u001b[0;32mnot\u001b[0m \u001b[0;32min\u001b[0m \u001b[0msample\u001b[0m\u001b[0;34m:\u001b[0m\u001b[0;34m\u001b[0m\u001b[0;34m\u001b[0m\u001b[0m\n\u001b[0m\u001b[1;32m    412\u001b[0m                     \u001b[0mvalidation_set\u001b[0m\u001b[0;34m.\u001b[0m\u001b[0mappend\u001b[0m\u001b[0;34m(\u001b[0m\u001b[0mx\u001b[0m\u001b[0;34m)\u001b[0m\u001b[0;34m\u001b[0m\u001b[0;34m\u001b[0m\u001b[0m\n\u001b[1;32m    413\u001b[0m             \u001b[0mprint\u001b[0m\u001b[0;34m(\u001b[0m\u001b[0;34m\"got validation set\"\u001b[0m\u001b[0;34m)\u001b[0m\u001b[0;34m\u001b[0m\u001b[0;34m\u001b[0m\u001b[0m\n",
      "\u001b[0;31mKeyboardInterrupt\u001b[0m: "
     ]
    }
   ],
   "source": [
    "rf = MyRandomForestClassifier()\n",
    "rf.fit(wildfire_X, wildfire_y)"
   ]
  },
  {
   "cell_type": "code",
   "execution_count": 17,
   "metadata": {},
   "outputs": [
    {
     "output_type": "stream",
     "name": "stdout",
     "text": [
      "9/9    \n",
      "KNN: accuracy = 0.2 error rate = 0.8\n"
     ]
    }
   ],
   "source": [
    "test_size = 10\n",
    "\n",
    "X_train, X_test, y_train, y_test = myevaluation.train_test_split(copy.deepcopy(wildfire_X), copy.deepcopy(wildfire_y), test_size=test_size, shuffle=True)\n",
    "\n",
    "nb = MyKNeighborsClassifier()\n",
    "nb.fit(X_train, y_train)\n",
    "predictions = []\n",
    "for i, x in enumerate(X_test):\n",
    "    sys.stdout.write(\"\\r\" + str(i) + \"/\" + str(len(X_test) -1) + \"    \")\n",
    "    sys.stdout.flush()\n",
    "    prediction = nb.predict([x])\n",
    "    predictions.append(prediction[0])\n",
    "\n",
    "print()\n",
    "acc = round(sum([int(x==y) for x,y in zip(predictions, y_test)])/len(predictions), 2)\n",
    "print(\"KNN: accuracy = \" + str(acc) + \" error rate = \" + str(1-acc))"
   ]
  },
  {
   "cell_type": "code",
   "execution_count": 18,
   "metadata": {},
   "outputs": [
    {
     "output_type": "stream",
     "name": "stdout",
     "text": [
      "getting training folds...\n"
     ]
    }
   ],
   "source": [
    "print(\"getting training folds...\")\n",
    "X_train_folds, X_test_folds = myevaluation.stratified_kfold_cross_validation(wildfire_X, wildfire_y, n_splits=10)"
   ]
  },
  {
   "cell_type": "code",
   "execution_count": 19,
   "metadata": {},
   "outputs": [
    {
     "output_type": "stream",
     "name": "stdout",
     "text": [
      "\n",
      "Stratified 10-Fold Cross Validation\n",
      "4220/4220    \n",
      "Naive Bayes: accuracy = 0.28 error rate = 0.72\n"
     ]
    }
   ],
   "source": [
    "# k-fold stratified cross validation\n",
    "\n",
    "\n",
    "print()\n",
    "print(\"Stratified 10-Fold Cross Validation\")\n",
    "\n",
    "# decision trees for stratified k-fold\n",
    "nb_predicted = []\n",
    "nb_actual = []\n",
    "# only does the first for now since it takes so long\n",
    "for i in range(0, 1):\n",
    "    X_train, X_test, y_train, y_test = myutils.get_trains_and_tests(wildfire_X, wildfire_y, X_train_folds[i], X_test_folds[i])\n",
    "    nb = MyKNeighborsClassifier()\n",
    "    nb.fit(X_train, y_train)\n",
    "    predictions = []\n",
    "    for i, x in enumerate(X_test):\n",
    "        sys.stdout.write(\"\\r\" + str(i) + \"/\" + str(len(X_test) -1) + \"    \")\n",
    "        sys.stdout.flush()\n",
    "        prediction = nb.predict([x])\n",
    "        predictions.append(prediction[0])\n",
    "\n",
    "    print()\n",
    "    predicted = [ x for x in predictions]\n",
    "    actual = [x for x in y_test]\n",
    "    \n",
    "    nb_predicted +=  predicted\n",
    "    nb_actual += actual\n",
    "\n",
    "acc = round(sum([int(x==y) for x,y in zip(predicted, actual)])/len(predicted), 2)\n",
    "print(\"Naive Bayes: accuracy = \" + str(acc) + \" error rate = \" + str(1-acc))"
   ]
  }
 ]
}