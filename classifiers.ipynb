{
 "metadata": {
  "language_info": {
   "codemirror_mode": {
    "name": "ipython",
    "version": 3
   },
   "file_extension": ".py",
   "mimetype": "text/x-python",
   "name": "python",
   "nbconvert_exporter": "python",
   "pygments_lexer": "ipython3",
   "version": "3.8.5"
  },
  "orig_nbformat": 2,
  "kernelspec": {
   "name": "python385jvsc74a57bd098b0a9b7b4eaaa670588a142fd0a9b87eaafe866f1db4228be72b4211d12040f",
   "display_name": "Python 3.8.5 64-bit ('base': conda)"
  }
 },
 "nbformat": 4,
 "nbformat_minor": 2,
 "cells": [
  {
   "cell_type": "code",
   "execution_count": 1,
   "metadata": {},
   "outputs": [],
   "source": [
    "import importlib\n",
    "\n",
    "import copy\n",
    "from tabulate import tabulate\n",
    "\n",
    "import mysklearn.myutils\n",
    "importlib.reload(mysklearn.myutils)\n",
    "import mysklearn.myutils as myutils\n",
    "\n",
    "import mysklearn.mypytable\n",
    "importlib.reload(mysklearn.mypytable)\n",
    "from mysklearn.mypytable import MyPyTable \n",
    "\n",
    "import mysklearn.myclassifiers\n",
    "importlib.reload(mysklearn.myclassifiers)\n",
    "from mysklearn.myclassifiers import MyKNeighborsClassifier, MySimpleLinearRegressor, MyNaiveBayesClassifier, MyDecisionTreeClassifier, MyRandomForestClassifier\n",
    "\n",
    "import mysklearn.myevaluation\n",
    "importlib.reload(mysklearn.myevaluation)\n",
    "import mysklearn.myevaluation as myevaluation"
   ]
  },
  {
   "cell_type": "code",
   "execution_count": 2,
   "metadata": {},
   "outputs": [],
   "source": [
    "wildfire_fname = os.path.join(\"data\",\"clean_fire_data.csv\")\n",
    "wildfire_table = MyPyTable()\n",
    "wildfire_table.load_from_file(wildfire_fname)\n",
    "\n",
    "fire_date = wildfire_table.get_column(\"date\")\n",
    "county = wildfire_table.get_column(\"county\")\n",
    "acres = wildfire_table.get_column(\"acres\")\n",
    "cause = wildfire_table.get_column(\"cause\")\n",
    "lat = wildfire_table.get_column(\"lat\")\n",
    "lng = wildfire_table.get_column(\"lon\")\n",
    "\n",
    "wildfire_X = [[fire_date[i], county[i], cause[i], lat[i], lng[i]] for i in range(len(fire_date))]\n",
    "wildfire_y = [x for x in acres]\n",
    "\n",
    "\n",
    "\n"
   ]
  },
  {
   "cell_type": "code",
   "execution_count": 3,
   "metadata": {},
   "outputs": [
    {
     "output_type": "stream",
     "name": "stdout",
     "text": [
      "58945\n",
      "42206\n"
     ]
    }
   ],
   "source": [
    "print(len(wildfire_X))\n",
    "for i, x in enumerate(wildfire_X):\n",
    "    if x[1] == \"None\" or x[1] == \"NO DATA\":\n",
    "        del wildfire_X[i]\n",
    "        del wildfire_y[i]\n",
    "    elif x[2] == \"None\" or x[2] == \"Logging\" or x[2] == \"Miscellaneou\" or x[2] == \"Under Invest\" or x[2] == \"Undetermined\" or x[2] == \"Railroad\" or x[2] == \"Arson\":\n",
    "        del wildfire_X[i]\n",
    "        del wildfire_y[i]\n",
    "print(len(wildfire_X))"
   ]
  },
  {
   "cell_type": "code",
   "execution_count": 4,
   "metadata": {},
   "outputs": [
    {
     "output_type": "stream",
     "name": "stdout",
     "text": [
      "0\n",
      "getting sample and validation sets...\n",
      "length of sample and validation sets: 28278 10217\n",
      "getting the tree...\n",
      "testing the tree\n",
      "accuracy: 0.04140158559263972\n",
      "1\n",
      "getting sample and validation sets...\n",
      "length of sample and validation sets: 28278 10218\n",
      "getting the tree...\n",
      "testing the tree\n",
      "accuracy: 0.04208259933450773\n",
      "2\n",
      "getting sample and validation sets...\n",
      "length of sample and validation sets: 28278 10286\n",
      "getting the tree...\n",
      "testing the tree\n",
      "accuracy: 0.04297102858253937\n",
      "3\n",
      "getting sample and validation sets...\n",
      "length of sample and validation sets: 28278 10259\n",
      "getting the tree...\n",
      "testing the tree\n",
      "accuracy: 0.04093966273515937\n",
      "4\n",
      "getting sample and validation sets...\n",
      "length of sample and validation sets: 28278 10223\n",
      "getting the tree...\n",
      "testing the tree\n",
      "accuracy: 0.04264892888584564\n",
      "5\n",
      "getting sample and validation sets...\n",
      "length of sample and validation sets: 28278 10267\n",
      "getting the tree...\n",
      "testing the tree\n",
      "accuracy: 0.04197915652089218\n",
      "6\n",
      "getting sample and validation sets...\n",
      "length of sample and validation sets: 28278 10352\n",
      "getting the tree...\n",
      "testing the tree\n",
      "accuracy: 0.04250386398763524\n",
      "7\n",
      "getting sample and validation sets...\n",
      "length of sample and validation sets: 28278 10294\n",
      "getting the tree...\n",
      "testing the tree\n",
      "accuracy: 0.04225762580143773\n",
      "8\n",
      "getting sample and validation sets...\n",
      "length of sample and validation sets: 28278 10272\n",
      "getting the tree...\n",
      "testing the tree\n",
      "accuracy: 0.044003115264797506\n",
      "9\n",
      "getting sample and validation sets...\n",
      "length of sample and validation sets: 28278 10301\n",
      "getting the tree...\n",
      "testing the tree\n",
      "accuracy: 0.0447529366080963\n",
      "10\n",
      "getting sample and validation sets...\n",
      "length of sample and validation sets: 28278 10254\n",
      "getting the tree...\n",
      "testing the tree\n",
      "accuracy: 0.04281256095182368\n",
      "11\n",
      "getting sample and validation sets...\n",
      "length of sample and validation sets: 28278 10283\n",
      "getting the tree...\n",
      "testing the tree\n",
      "accuracy: 0.0426918214528834\n",
      "12\n",
      "getting sample and validation sets...\n",
      "length of sample and validation sets: 28278 10218\n",
      "getting the tree...\n",
      "testing the tree\n",
      "accuracy: 0.04188686631434723\n",
      "13\n",
      "getting sample and validation sets...\n",
      "length of sample and validation sets: 28278 10241\n",
      "getting the tree...\n",
      "testing the tree\n",
      "accuracy: 0.04286690752856166\n",
      "14\n",
      "getting sample and validation sets...\n",
      "length of sample and validation sets: 28278 10219\n",
      "getting the tree...\n",
      "testing the tree\n",
      "accuracy: 0.04168705352774244\n",
      "15\n",
      "getting sample and validation sets...\n",
      "length of sample and validation sets: 28278 10297\n",
      "getting the tree...\n",
      "testing the tree\n",
      "accuracy: 0.04088569486258133\n",
      "16\n",
      "getting sample and validation sets...\n",
      "length of sample and validation sets: 28278 10267\n",
      "getting the tree...\n",
      "testing the tree\n",
      "accuracy: 0.04324534917697477\n",
      "17\n",
      "getting sample and validation sets...\n",
      "length of sample and validation sets: 28278 10293\n",
      "getting the tree...\n",
      "testing the tree\n",
      "accuracy: 0.040998737005732054\n",
      "18\n",
      "getting sample and validation sets...\n",
      "length of sample and validation sets: 28278 10262\n",
      "getting the tree...\n",
      "testing the tree\n",
      "accuracy: 0.04365620736698499\n",
      "19\n",
      "getting sample and validation sets...\n",
      "length of sample and validation sets: 28278 10234\n",
      "getting the tree...\n",
      "testing the tree\n",
      "accuracy: 0.043873363298807894\n",
      "getting the best M trees\n"
     ]
    }
   ],
   "source": [
    "rf = MyRandomForestClassifier()\n",
    "rf.fit(wildfire_X, wildfire_y)"
   ]
  },
  {
   "cell_type": "code",
   "execution_count": 17,
   "metadata": {},
   "outputs": [
    {
     "output_type": "stream",
     "name": "stdout",
     "text": [
      "9/9    \n",
      "KNN: accuracy = 0.2 error rate = 0.8\n"
     ]
    }
   ],
   "source": [
    "test_size = 10\n",
    "\n",
    "X_train, X_test, y_train, y_test = myevaluation.train_test_split(copy.deepcopy(wildfire_X), copy.deepcopy(wildfire_y), test_size=test_size, shuffle=True)\n",
    "\n",
    "nb = MyKNeighborsClassifier()\n",
    "nb.fit(X_train, y_train)\n",
    "predictions = []\n",
    "for i, x in enumerate(X_test):\n",
    "    sys.stdout.write(\"\\r\" + str(i) + \"/\" + str(len(X_test) -1) + \"    \")\n",
    "    sys.stdout.flush()\n",
    "    prediction = nb.predict([x])\n",
    "    predictions.append(prediction[0])\n",
    "\n",
    "print()\n",
    "acc = round(sum([int(x==y) for x,y in zip(predictions, y_test)])/len(predictions), 2)\n",
    "print(\"KNN: accuracy = \" + str(acc) + \" error rate = \" + str(1-acc))"
   ]
  },
  {
   "cell_type": "code",
   "execution_count": 18,
   "metadata": {},
   "outputs": [
    {
     "output_type": "stream",
     "name": "stdout",
     "text": [
      "getting training folds...\n"
     ]
    }
   ],
   "source": [
    "print(\"getting training folds...\")\n",
    "X_train_folds, X_test_folds = myevaluation.stratified_kfold_cross_validation(wildfire_X, wildfire_y, n_splits=10)"
   ]
  },
  {
   "cell_type": "code",
   "execution_count": 19,
   "metadata": {},
   "outputs": [
    {
     "output_type": "stream",
     "name": "stdout",
     "text": [
      "\n",
      "Stratified 10-Fold Cross Validation\n",
      "4220/4220    \n",
      "Naive Bayes: accuracy = 0.28 error rate = 0.72\n"
     ]
    }
   ],
   "source": [
    "# k-fold stratified cross validation\n",
    "\n",
    "\n",
    "print()\n",
    "print(\"Stratified 10-Fold Cross Validation\")\n",
    "\n",
    "# decision trees for stratified k-fold\n",
    "nb_predicted = []\n",
    "nb_actual = []\n",
    "# only does the first for now since it takes so long\n",
    "for i in range(0, 1):\n",
    "    X_train, X_test, y_train, y_test = myutils.get_trains_and_tests(wildfire_X, wildfire_y, X_train_folds[i], X_test_folds[i])\n",
    "    nb = MyKNeighborsClassifier()\n",
    "    nb.fit(X_train, y_train)\n",
    "    predictions = []\n",
    "    for i, x in enumerate(X_test):\n",
    "        sys.stdout.write(\"\\r\" + str(i) + \"/\" + str(len(X_test) -1) + \"    \")\n",
    "        sys.stdout.flush()\n",
    "        prediction = nb.predict([x])\n",
    "        predictions.append(prediction[0])\n",
    "\n",
    "    print()\n",
    "    predicted = [ x for x in predictions]\n",
    "    actual = [x for x in y_test]\n",
    "    \n",
    "    nb_predicted +=  predicted\n",
    "    nb_actual += actual\n",
    "\n",
    "acc = round(sum([int(x==y) for x,y in zip(predicted, actual)])/len(predicted), 2)\n",
    "print(\"Naive Bayes: accuracy = \" + str(acc) + \" error rate = \" + str(1-acc))"
   ]
  }
 ]
}